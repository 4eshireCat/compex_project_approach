{
 "cells": [
  {
   "cell_type": "code",
   "execution_count": 1,
   "id": "4aa92f0e-916b-4102-91ab-7a7358c559a6",
   "metadata": {
    "tags": []
   },
   "outputs": [],
   "source": [
    "# работа с данными\n",
    "import pandas as pd\n",
    "import numpy as np\n",
    "\n",
    "# статистика\n",
    "from scipy import stats\n",
    "\n",
    "# визуализации\n",
    "from matplotlib import pyplot as plt\n",
    "import seaborn as sns\n",
    "from seaborn import objects as so\n",
    "from plotly import express as pe\n",
    "import ipywidgets as ipw\n",
    "import aquarel as aq\n",
    "\n",
    "# системные библиотеки\n",
    "from pathlib import Path\n",
    "import logging\n",
    "\n",
    "\n",
    "# ml\n",
    "\n",
    "from sklearn.tree import DecisionTreeClassifier\n",
    "from sklearn.metrics import roc_auc_score, make_scorer\n",
    "from sklearn.model_selection import cross_val_score, train_test_split, TunedThresholdClassifierCV\n",
    "\n",
    "\n",
    "from itertools import combinations\n",
    "from datetime import datetime\n",
    "import logging\n",
    "import ipynbname"
   ]
  },
  {
   "cell_type": "code",
   "execution_count": 2,
   "id": "5657f8c8-c253-4ade-9532-842db4dd3e89",
   "metadata": {
    "tags": []
   },
   "outputs": [
    {
     "name": "stderr",
     "output_type": "stream",
     "text": [
      "2024-12-01 17:11:04 INFO Logger has been configured successfully.\n"
     ]
    }
   ],
   "source": [
    "# Configure the logging settings\n",
    "logging.basicConfig(\n",
    "    format='%(asctime)s %(levelname)s %(message)s',  # Set the log message format\n",
    "    datefmt='%Y-%m-%d %H:%M:%S',  # Set the date format\n",
    "    level=logging.INFO  # Set the logging level to INFO\n",
    ")\n",
    "\n",
    "# Create a logger object\n",
    "logger = logging.getLogger(__name__)\n",
    "\n",
    "logger.info(\"Logger has been configured successfully.\")"
   ]
  },
  {
   "cell_type": "code",
   "execution_count": 3,
   "id": "fdf8d988-ea57-47be-b11b-c6c0325a0dbc",
   "metadata": {
    "tags": []
   },
   "outputs": [
    {
     "name": "stdout",
     "output_type": "stream",
     "text": [
      "['umbra_light', 'minimal_dark', 'boxy_light', 'arctic_dark', 'arctic_light', 'minimal_light', 'umbra_dark', 'gruvbox_dark', 'gruvbox_light', 'scientific', 'boxy_dark']\n"
     ]
    },
    {
     "data": {
      "text/plain": [
       "<aquarel.theme.Theme at 0x74760d154d60>"
      ]
     },
     "execution_count": 3,
     "metadata": {},
     "output_type": "execute_result"
    }
   ],
   "source": [
    "# Загружаем тему, чтобы диаграммы были красивее\n",
    "\n",
    "print(aq.list_themes())\n",
    "\n",
    "aq.load_theme('arctic_light')"
   ]
  },
  {
   "cell_type": "markdown",
   "id": "bbf6c55f-106a-4ffa-9870-df4e064c63b6",
   "metadata": {},
   "source": [
    "# Константы"
   ]
  },
  {
   "cell_type": "code",
   "execution_count": 4,
   "id": "a039517e-58aa-42f8-8b62-6a2765b3b16e",
   "metadata": {
    "tags": []
   },
   "outputs": [],
   "source": [
    "ROOT = Path(\".\").absolute().parent.parent\n",
    "\n",
    "DATA = ROOT / \"data\"\n",
    "DATA_RAW = DATA / \"raw\"\n",
    "DATA_PROCESSED = DATA / \"processed\"\n",
    "DATA_CLEAN = DATA / \"clean\""
   ]
  },
  {
   "cell_type": "markdown",
   "id": "62b8a608-0faa-4cb8-9517-7573452084fe",
   "metadata": {},
   "source": [
    "# Вспомогательный код"
   ]
  },
  {
   "cell_type": "code",
   "execution_count": 5,
   "id": "f6865021-e943-41a7-a055-16aa8377b1b1",
   "metadata": {},
   "outputs": [],
   "source": [
    "from typing import Optional\n",
    "\n",
    "def get_timestamp() -> str:\n",
    "    \"\"\"\n",
    "    Generates a timestamp string in the format YYYY-MM-DD-HH-MM-SS.\n",
    "    \n",
    "    Returns:\n",
    "        str: The formatted timestamp.\n",
    "    \"\"\"\n",
    "    dt = datetime.now()\n",
    "    return dt.strftime(\"%Y-%m-%d-%H-%M-%S\")\n",
    "\n",
    "def get_filename(\n",
    "        fname: Optional[str] = None,\n",
    "        extension: str = 'parquet',\n",
    "    ) -> str:\n",
    "    \"\"\"\n",
    "    Generates a filename based on the provided name and current timestamp.\n",
    "    \n",
    "    Args:\n",
    "        fname (Optional[str]): The base filename. If None, the current notebook name is used.\n",
    "        extension (str): The file extension to use. Default is 'parquet'.\n",
    "    \n",
    "    Returns:\n",
    "        str: The generated filename with timestamp and extension.\n",
    "    \"\"\"\n",
    "    base_filename: str = fname if fname else ipynbname.name()\n",
    "    return f\"{base_filename}_{get_timestamp()}.{extension}\""
   ]
  },
  {
   "cell_type": "code",
   "execution_count": 6,
   "id": "70e8209c-dbb1-4ed9-be38-b94072c25a26",
   "metadata": {
    "tags": []
   },
   "outputs": [],
   "source": [
    "import numpy as np\n",
    "from sklearn.metrics import roc_auc_score, f1_score, matthews_corrcoef\n",
    "from sklearn.model_selection import LeavePOut, cross_val_predict\n",
    "from sklearn.base import clone\n",
    "\n",
    "def get_scores(estimator,x, y):\n",
    "    # Assuming 'x' is your feature set, and 'y' is your target variable\n",
    "    unique_classes = np.unique(y)\n",
    "    scores = []\n",
    "    f1_scores = []\n",
    "    mcc_scores = []\n",
    "\n",
    "    # Loop through each class\n",
    "    for cls in unique_classes:\n",
    "        # Create a binary target variable\n",
    "        binary_y = np.where(y == cls, 1, 0)\n",
    "\n",
    "        # Use cross_val_predict to get predicted probabilities\n",
    "        y_pred_proba = cross_val_predict(estimator, x, binary_y, cv=3, method='predict_proba')[:, 1]\n",
    "\n",
    "        # Use TunedThresholdClassifierCV to find the optimal threshold\n",
    "        # Assuming TunedThresholdClassifierCV is defined and imported\n",
    "        try:\n",
    "            tuned_threshold_model = TunedThresholdClassifierCV(clone(estimator))\n",
    "            tuned_threshold_model.fit(x, binary_y)\n",
    "\n",
    "            # Get the optimal threshold\n",
    "            optimal_threshold = tuned_threshold_model.best_threshold_\n",
    "\n",
    "            # Make predictions based on the optimal threshold\n",
    "            y_pred = (y_pred_proba >= optimal_threshold).astype(int)\n",
    "\n",
    "            # Calculate the ROC AUC score\n",
    "            score = roc_auc_score(binary_y, y_pred_proba)\n",
    "            scores.append(score)\n",
    "\n",
    "            # Calculate F1 score\n",
    "            f1 = f1_score(binary_y, y_pred)\n",
    "            f1_scores.append(f1)\n",
    "\n",
    "            # Calculate Matthews correlation coefficient\n",
    "            mcc = matthews_corrcoef(binary_y, y_pred)\n",
    "            mcc_scores.append(mcc)\n",
    "        except:\n",
    "            scores.append(np.nan)\n",
    "            f1_scores.append(np.nan)\n",
    "            mcc_scores.append(np.nan)\n",
    "            \n",
    "\n",
    "    # Calculate the average scores weighted by each class share in the target\n",
    "    class_weights = [np.sum(y == cls) / len(y) for cls in unique_classes]\n",
    "    weighted_average_score = np.average(scores, weights=class_weights)\n",
    "    weighted_average_f1 = np.average(f1_scores, weights=class_weights)\n",
    "    weighted_average_mcc = np.average(mcc_scores, weights=class_weights)\n",
    "    \n",
    "    max_score = np.max(scores)\n",
    "    max_f1 = np.max(f1_scores)\n",
    "    max_mcc = np.max(mcc_scores)\n",
    "\n",
    "    return (\n",
    "        weighted_average_score, \n",
    "        weighted_average_f1, \n",
    "        weighted_average_mcc,\n",
    "        max_score,\n",
    "        max_f1,\n",
    "        max_mcc,\n",
    "    )"
   ]
  },
  {
   "cell_type": "code",
   "execution_count": 7,
   "id": "f4b485ff-5132-425a-976c-342944558963",
   "metadata": {
    "tags": []
   },
   "outputs": [],
   "source": [
    "def add_coefficients(df: pd.DataFrame) -> pd.DataFrame:\n",
    "    selected_pairs = set([\n",
    "        ('fixed_acidity', 'alcohol'),\n",
    "        ('volatile_acidity', 'alcohol'),\n",
    "        ('chlorides', 'pH'),\n",
    "        ('chlorides', 'alcohol'),\n",
    "        ('total_sulfur_dioxide', 'sulphates'),\n",
    "        ('density', 'alcohol'),\n",
    "        ('pH', 'alcohol'),\n",
    "        ('residual_sugar', 'chlorides'),\n",
    "        ('residual_sugar', 'density'),\n",
    "        ('residual_sugar', 'sulphates'),\n",
    "        ('total_sulfur_dioxide', 'density'),\n",
    "        ('pH', 'sulphates'),\n",
    "        ('fixed_acidity', 'free_sulfur_dioxide'),\n",
    "        ('fixed_acidity', 'alcohol'),\n",
    "        ('volatile_acidity', 'free_sulfur_dioxide'),\n",
    "        ('density', 'alcohol'),\n",
    "        ('pH', 'alcohol'),\n",
    "    ])\n",
    "    \n",
    "    _df = df.copy()\n",
    "    \n",
    "    for f1, f2 in selected_pairs:\n",
    "        _df[f\"{f1}_DIV_{f2}\"] = _df[f1] / _df[f2]\n",
    "        \n",
    "    return _df"
   ]
  },
  {
   "cell_type": "markdown",
   "id": "663a04b9-8ce6-424e-a7dd-6c87f030a3e2",
   "metadata": {},
   "source": [
    "# Гипотеза\n",
    "\n",
    "Попробуем сгенерировать новые фичи для анализа.\n",
    "\n",
    "**Внимание! Все, что происходит ниже, происходит в демонстрационных целях, для иллюстрации того, как удобно ОФРОМЛЯТЬ проект. НЕ НАДО ВОСПРИНИМАТЬ ЭТО КАК ПОПЫТКУ РЕШИТЬ ЗАДАЧУ ОБ ОПРЕДЕЛЕНИИ КАЧЕСТВА ВИНА!**"
   ]
  },
  {
   "cell_type": "markdown",
   "id": "54c0e478-efe4-4fd0-b4cf-38302404dd0e",
   "metadata": {},
   "source": [
    "# Результаты"
   ]
  },
  {
   "cell_type": "markdown",
   "id": "291b1fbf-d15f-4c29-b513-6cfdd14ec4c4",
   "metadata": {},
   "source": [
    "- написана функция для обогащения датасета коэффициентами вида фича 1 / фича 2: add_coefficients\n",
    "- оценена предсказательная сила разных коэффициентов, таблица с оценками сохранена в **data/clean** под именем coefficient_metrics_{ts}.ipynb\n",
    "- набор данных разбит на обучающую и валидационную выборки, добавлен столбец is_train, принимающий значение 1 для обучающей выборки и 0 - для валидационной\n",
    "- добавлены наиболее перспективные для классификации коэффициенты"
   ]
  },
  {
   "cell_type": "markdown",
   "id": "7f2244b9-e8a6-41d8-b6fb-7149d6dc1b88",
   "metadata": {},
   "source": [
    "# Анализ"
   ]
  },
  {
   "cell_type": "code",
   "execution_count": 8,
   "id": "7e35d393-59b7-47ed-a82d-5ddc458c7e4a",
   "metadata": {},
   "outputs": [],
   "source": [
    "df = pd.read_parquet(DATA_RAW / 'wine_data_2024-11-04-19-36-13.parquet')"
   ]
  },
  {
   "cell_type": "code",
   "execution_count": 9,
   "id": "ad1c7d02-b598-48d3-9aeb-05e00e27a825",
   "metadata": {
    "tags": []
   },
   "outputs": [
    {
     "data": {
      "text/html": [
       "<div>\n",
       "<style scoped>\n",
       "    .dataframe tbody tr th:only-of-type {\n",
       "        vertical-align: middle;\n",
       "    }\n",
       "\n",
       "    .dataframe tbody tr th {\n",
       "        vertical-align: top;\n",
       "    }\n",
       "\n",
       "    .dataframe thead th {\n",
       "        text-align: right;\n",
       "    }\n",
       "</style>\n",
       "<table border=\"1\" class=\"dataframe\">\n",
       "  <thead>\n",
       "    <tr style=\"text-align: right;\">\n",
       "      <th></th>\n",
       "      <th>fixed_acidity</th>\n",
       "      <th>volatile_acidity</th>\n",
       "      <th>citric_acid</th>\n",
       "      <th>residual_sugar</th>\n",
       "      <th>chlorides</th>\n",
       "      <th>free_sulfur_dioxide</th>\n",
       "      <th>total_sulfur_dioxide</th>\n",
       "      <th>density</th>\n",
       "      <th>pH</th>\n",
       "      <th>sulphates</th>\n",
       "      <th>alcohol</th>\n",
       "      <th>quality</th>\n",
       "      <th>rc</th>\n",
       "    </tr>\n",
       "  </thead>\n",
       "  <tbody>\n",
       "    <tr>\n",
       "      <th>0</th>\n",
       "      <td>3.8</td>\n",
       "      <td>0.310</td>\n",
       "      <td>0.02</td>\n",
       "      <td>11.1</td>\n",
       "      <td>0.036</td>\n",
       "      <td>20.0</td>\n",
       "      <td>114.0</td>\n",
       "      <td>0.99248</td>\n",
       "      <td>3.75</td>\n",
       "      <td>0.44</td>\n",
       "      <td>12.4</td>\n",
       "      <td>6</td>\n",
       "      <td>1</td>\n",
       "    </tr>\n",
       "    <tr>\n",
       "      <th>1</th>\n",
       "      <td>3.9</td>\n",
       "      <td>0.225</td>\n",
       "      <td>0.40</td>\n",
       "      <td>4.2</td>\n",
       "      <td>0.030</td>\n",
       "      <td>29.0</td>\n",
       "      <td>118.0</td>\n",
       "      <td>0.98900</td>\n",
       "      <td>3.57</td>\n",
       "      <td>0.36</td>\n",
       "      <td>12.8</td>\n",
       "      <td>8</td>\n",
       "      <td>1</td>\n",
       "    </tr>\n",
       "    <tr>\n",
       "      <th>2</th>\n",
       "      <td>4.2</td>\n",
       "      <td>0.170</td>\n",
       "      <td>0.36</td>\n",
       "      <td>1.8</td>\n",
       "      <td>0.029</td>\n",
       "      <td>93.0</td>\n",
       "      <td>161.0</td>\n",
       "      <td>0.98999</td>\n",
       "      <td>3.65</td>\n",
       "      <td>0.89</td>\n",
       "      <td>12.0</td>\n",
       "      <td>7</td>\n",
       "      <td>1</td>\n",
       "    </tr>\n",
       "    <tr>\n",
       "      <th>3</th>\n",
       "      <td>4.2</td>\n",
       "      <td>0.215</td>\n",
       "      <td>0.23</td>\n",
       "      <td>5.1</td>\n",
       "      <td>0.041</td>\n",
       "      <td>64.0</td>\n",
       "      <td>157.0</td>\n",
       "      <td>0.99688</td>\n",
       "      <td>3.42</td>\n",
       "      <td>0.44</td>\n",
       "      <td>8.0</td>\n",
       "      <td>3</td>\n",
       "      <td>1</td>\n",
       "    </tr>\n",
       "    <tr>\n",
       "      <th>4</th>\n",
       "      <td>4.4</td>\n",
       "      <td>0.320</td>\n",
       "      <td>0.39</td>\n",
       "      <td>4.3</td>\n",
       "      <td>0.030</td>\n",
       "      <td>31.0</td>\n",
       "      <td>127.0</td>\n",
       "      <td>0.98904</td>\n",
       "      <td>3.46</td>\n",
       "      <td>0.36</td>\n",
       "      <td>12.8</td>\n",
       "      <td>8</td>\n",
       "      <td>1</td>\n",
       "    </tr>\n",
       "  </tbody>\n",
       "</table>\n",
       "</div>"
      ],
      "text/plain": [
       "   fixed_acidity  volatile_acidity  citric_acid  residual_sugar  chlorides  \\\n",
       "0            3.8             0.310         0.02            11.1      0.036   \n",
       "1            3.9             0.225         0.40             4.2      0.030   \n",
       "2            4.2             0.170         0.36             1.8      0.029   \n",
       "3            4.2             0.215         0.23             5.1      0.041   \n",
       "4            4.4             0.320         0.39             4.3      0.030   \n",
       "\n",
       "   free_sulfur_dioxide  total_sulfur_dioxide  density    pH  sulphates  \\\n",
       "0                 20.0                 114.0  0.99248  3.75       0.44   \n",
       "1                 29.0                 118.0  0.98900  3.57       0.36   \n",
       "2                 93.0                 161.0  0.98999  3.65       0.89   \n",
       "3                 64.0                 157.0  0.99688  3.42       0.44   \n",
       "4                 31.0                 127.0  0.98904  3.46       0.36   \n",
       "\n",
       "   alcohol  quality  rc  \n",
       "0     12.4        6   1  \n",
       "1     12.8        8   1  \n",
       "2     12.0        7   1  \n",
       "3      8.0        3   1  \n",
       "4     12.8        8   1  "
      ]
     },
     "execution_count": 9,
     "metadata": {},
     "output_type": "execute_result"
    }
   ],
   "source": [
    "df.head()"
   ]
  },
  {
   "cell_type": "markdown",
   "id": "3256d911-32ce-498b-a957-aed8f0873bf5",
   "metadata": {},
   "source": [
    "Разделим набор на обучающую и тестовую выборки. Дальше будем использовать толкьо обучающую выборку для поиска сязей фич и таргета."
   ]
  },
  {
   "cell_type": "code",
   "execution_count": 10,
   "id": "7adf810c-e04f-4e0a-bc46-78d4d399a5e9",
   "metadata": {
    "tags": []
   },
   "outputs": [],
   "source": [
    "train = df.sample(frac=0.7,random_state=123).copy()\n",
    "test = df[~df.index.isin(train.index)].copy()"
   ]
  },
  {
   "cell_type": "code",
   "execution_count": 11,
   "id": "1cbec5b5-be1c-4f8a-992c-515cfb0b3a28",
   "metadata": {
    "tags": []
   },
   "outputs": [
    {
     "data": {
      "text/html": [
       "<div>\n",
       "<style scoped>\n",
       "    .dataframe tbody tr th:only-of-type {\n",
       "        vertical-align: middle;\n",
       "    }\n",
       "\n",
       "    .dataframe tbody tr th {\n",
       "        vertical-align: top;\n",
       "    }\n",
       "\n",
       "    .dataframe thead th {\n",
       "        text-align: right;\n",
       "    }\n",
       "</style>\n",
       "<table border=\"1\" class=\"dataframe\">\n",
       "  <thead>\n",
       "    <tr style=\"text-align: right;\">\n",
       "      <th></th>\n",
       "      <th>train</th>\n",
       "      <th>test</th>\n",
       "    </tr>\n",
       "  </thead>\n",
       "  <tbody>\n",
       "    <tr>\n",
       "      <th>fixed_acidity</th>\n",
       "      <td>7.206366</td>\n",
       "      <td>7.236897</td>\n",
       "    </tr>\n",
       "    <tr>\n",
       "      <th>volatile_acidity</th>\n",
       "      <td>0.342750</td>\n",
       "      <td>0.347486</td>\n",
       "    </tr>\n",
       "    <tr>\n",
       "      <th>citric_acid</th>\n",
       "      <td>0.318541</td>\n",
       "      <td>0.318476</td>\n",
       "    </tr>\n",
       "    <tr>\n",
       "      <th>residual_sugar</th>\n",
       "      <td>5.034676</td>\n",
       "      <td>5.084451</td>\n",
       "    </tr>\n",
       "    <tr>\n",
       "      <th>chlorides</th>\n",
       "      <td>0.056369</td>\n",
       "      <td>0.057473</td>\n",
       "    </tr>\n",
       "    <tr>\n",
       "      <th>free_sulfur_dioxide</th>\n",
       "      <td>29.871878</td>\n",
       "      <td>30.400627</td>\n",
       "    </tr>\n",
       "    <tr>\n",
       "      <th>total_sulfur_dioxide</th>\n",
       "      <td>113.946817</td>\n",
       "      <td>114.483386</td>\n",
       "    </tr>\n",
       "    <tr>\n",
       "      <th>density</th>\n",
       "      <td>0.994518</td>\n",
       "      <td>0.994579</td>\n",
       "    </tr>\n",
       "    <tr>\n",
       "      <th>pH</th>\n",
       "      <td>3.224789</td>\n",
       "      <td>3.224288</td>\n",
       "    </tr>\n",
       "    <tr>\n",
       "      <th>sulphates</th>\n",
       "      <td>0.533242</td>\n",
       "      <td>0.533774</td>\n",
       "    </tr>\n",
       "    <tr>\n",
       "      <th>alcohol</th>\n",
       "      <td>10.550078</td>\n",
       "      <td>10.547225</td>\n",
       "    </tr>\n",
       "    <tr>\n",
       "      <th>quality</th>\n",
       "      <td>5.795595</td>\n",
       "      <td>5.795611</td>\n",
       "    </tr>\n",
       "    <tr>\n",
       "      <th>rc</th>\n",
       "      <td>1.228042</td>\n",
       "      <td>1.206897</td>\n",
       "    </tr>\n",
       "  </tbody>\n",
       "</table>\n",
       "</div>"
      ],
      "text/plain": [
       "                           train        test\n",
       "fixed_acidity           7.206366    7.236897\n",
       "volatile_acidity        0.342750    0.347486\n",
       "citric_acid             0.318541    0.318476\n",
       "residual_sugar          5.034676    5.084451\n",
       "chlorides               0.056369    0.057473\n",
       "free_sulfur_dioxide    29.871878   30.400627\n",
       "total_sulfur_dioxide  113.946817  114.483386\n",
       "density                 0.994518    0.994579\n",
       "pH                      3.224789    3.224288\n",
       "sulphates               0.533242    0.533774\n",
       "alcohol                10.550078   10.547225\n",
       "quality                 5.795595    5.795611\n",
       "rc                      1.228042    1.206897"
      ]
     },
     "execution_count": 11,
     "metadata": {},
     "output_type": "execute_result"
    }
   ],
   "source": [
    "pd.concat(\n",
    "    [\n",
    "        train.mean(),\n",
    "        test.mean(),\n",
    "    ],\n",
    "    axis=1\n",
    ").rename(columns={0:'train',1:'test'})"
   ]
  },
  {
   "cell_type": "code",
   "execution_count": 12,
   "id": "7ae6c941-303e-486d-959c-b37d711eb5ec",
   "metadata": {
    "tags": []
   },
   "outputs": [
    {
     "data": {
      "text/plain": [
       "quality\n",
       "3      19\n",
       "4     151\n",
       "5    1219\n",
       "6    1629\n",
       "7     597\n",
       "8     104\n",
       "9       4\n",
       "Name: count, dtype: int64"
      ]
     },
     "execution_count": 12,
     "metadata": {},
     "output_type": "execute_result"
    }
   ],
   "source": [
    "train.quality.value_counts().sort_index()"
   ]
  },
  {
   "cell_type": "code",
   "execution_count": 13,
   "id": "0d62bdb7-0b2a-400a-9862-a9d8dbd55ece",
   "metadata": {
    "tags": []
   },
   "outputs": [
    {
     "data": {
      "text/plain": [
       "quality\n",
       "3     11\n",
       "4     55\n",
       "5    532\n",
       "6    694\n",
       "7    258\n",
       "8     44\n",
       "9      1\n",
       "Name: count, dtype: int64"
      ]
     },
     "execution_count": 13,
     "metadata": {},
     "output_type": "execute_result"
    }
   ],
   "source": [
    "test.quality.value_counts().sort_index()"
   ]
  },
  {
   "cell_type": "code",
   "execution_count": 14,
   "id": "9ab9e62a-95d2-4753-855c-6170c009d49c",
   "metadata": {
    "tags": []
   },
   "outputs": [
    {
     "data": {
      "text/plain": [
       "['fixed_acidity',\n",
       " 'volatile_acidity',\n",
       " 'citric_acid',\n",
       " 'residual_sugar',\n",
       " 'chlorides',\n",
       " 'free_sulfur_dioxide',\n",
       " 'total_sulfur_dioxide',\n",
       " 'density',\n",
       " 'pH',\n",
       " 'sulphates',\n",
       " 'alcohol']"
      ]
     },
     "execution_count": 14,
     "metadata": {},
     "output_type": "execute_result"
    }
   ],
   "source": [
    "base_features = train.columns[:-2].tolist()\n",
    "\n",
    "base_features"
   ]
  },
  {
   "cell_type": "code",
   "execution_count": 15,
   "id": "04bd7dd4-8ed5-4b23-9a25-0cc7466fdf8a",
   "metadata": {
    "tags": []
   },
   "outputs": [
    {
     "name": "stdout",
     "output_type": "stream",
     "text": [
      "('fixed_acidity', 'volatile_acidity')\n",
      "('fixed_acidity', 'citric_acid')\n",
      "('fixed_acidity', 'residual_sugar')\n",
      "('fixed_acidity', 'chlorides')\n",
      "('fixed_acidity', 'free_sulfur_dioxide')\n",
      "('fixed_acidity', 'total_sulfur_dioxide')\n",
      "('fixed_acidity', 'density')\n",
      "('fixed_acidity', 'pH')\n",
      "('fixed_acidity', 'sulphates')\n",
      "('fixed_acidity', 'alcohol')\n",
      "('volatile_acidity', 'citric_acid')\n",
      "('volatile_acidity', 'residual_sugar')\n",
      "('volatile_acidity', 'chlorides')\n",
      "('volatile_acidity', 'free_sulfur_dioxide')\n",
      "('volatile_acidity', 'total_sulfur_dioxide')\n",
      "('volatile_acidity', 'density')\n",
      "('volatile_acidity', 'pH')\n",
      "('volatile_acidity', 'sulphates')\n",
      "('volatile_acidity', 'alcohol')\n",
      "('citric_acid', 'residual_sugar')\n",
      "('citric_acid', 'chlorides')\n",
      "('citric_acid', 'free_sulfur_dioxide')\n",
      "('citric_acid', 'total_sulfur_dioxide')\n",
      "('citric_acid', 'density')\n",
      "('citric_acid', 'pH')\n",
      "('citric_acid', 'sulphates')\n",
      "('citric_acid', 'alcohol')\n",
      "('residual_sugar', 'chlorides')\n",
      "('residual_sugar', 'free_sulfur_dioxide')\n",
      "('residual_sugar', 'total_sulfur_dioxide')\n",
      "('residual_sugar', 'density')\n",
      "('residual_sugar', 'pH')\n",
      "('residual_sugar', 'sulphates')\n",
      "('residual_sugar', 'alcohol')\n",
      "('chlorides', 'free_sulfur_dioxide')\n",
      "('chlorides', 'total_sulfur_dioxide')\n",
      "('chlorides', 'density')\n",
      "('chlorides', 'pH')\n",
      "('chlorides', 'sulphates')\n",
      "('chlorides', 'alcohol')\n",
      "('free_sulfur_dioxide', 'total_sulfur_dioxide')\n",
      "('free_sulfur_dioxide', 'density')\n",
      "('free_sulfur_dioxide', 'pH')\n",
      "('free_sulfur_dioxide', 'sulphates')\n",
      "('free_sulfur_dioxide', 'alcohol')\n",
      "('total_sulfur_dioxide', 'density')\n",
      "('total_sulfur_dioxide', 'pH')\n",
      "('total_sulfur_dioxide', 'sulphates')\n",
      "('total_sulfur_dioxide', 'alcohol')\n",
      "('density', 'pH')\n",
      "('density', 'sulphates')\n",
      "('density', 'alcohol')\n",
      "('pH', 'sulphates')\n",
      "('pH', 'alcohol')\n",
      "('sulphates', 'alcohol')\n"
     ]
    }
   ],
   "source": [
    "for c in combinations(base_features, 2):\n",
    "    print(c)"
   ]
  },
  {
   "cell_type": "code",
   "execution_count": 16,
   "id": "d54cd575-de6a-439f-b91e-3f23d91ccf78",
   "metadata": {
    "tags": []
   },
   "outputs": [
    {
     "name": "stderr",
     "output_type": "stream",
     "text": [
      "100%|███████████████████████████████████████████| 55/55 [02:12<00:00,  2.40s/it]\n"
     ]
    }
   ],
   "source": [
    "import warnings\n",
    "\n",
    "warnings.simplefilter(action='ignore', category=UserWarning)\n",
    "from tqdm import tqdm\n",
    "\n",
    "feature_combs  = list(combinations(base_features, 2))\n",
    "\n",
    "\n",
    "coef_metrics = []\n",
    "\n",
    "for f1, f2 in tqdm(feature_combs): \n",
    "\n",
    "    feature_1 = train[f1]\n",
    "    feature_2 = train[f2]\n",
    "\n",
    "    coef = feature_1 / (feature_2 + 1)\n",
    "\n",
    "    x = coef.values.reshape((-1,1))\n",
    "    y = train.quality.values\n",
    "\n",
    "    t = DecisionTreeClassifier(random_state=123, max_depth=3)\n",
    "    scores = get_scores(t, x, y)\n",
    "    coef_metrics.append({\n",
    "        'feature_1': f1,\n",
    "        'feature_2': f2,\n",
    "        'wa_roc_auc': scores[0],\n",
    "        'wa_f1': scores[1],\n",
    "        'wa_mcc': scores[2],\n",
    "        'max_roc_auc': scores[3],\n",
    "        'max_f1': scores[4],\n",
    "        'max_mcc': scores[5],\n",
    "    })"
   ]
  },
  {
   "cell_type": "code",
   "execution_count": 17,
   "id": "c385cef2-3e3b-4d83-9482-c4b7172bf096",
   "metadata": {
    "tags": []
   },
   "outputs": [],
   "source": [
    "coef_metrics = pd.DataFrame(coef_metrics)"
   ]
  },
  {
   "cell_type": "code",
   "execution_count": 18,
   "id": "c4ad3323-abee-4f5e-ae2d-eda5ee6520f7",
   "metadata": {
    "tags": []
   },
   "outputs": [
    {
     "data": {
      "text/plain": [
       "<Axes: ylabel='Frequency'>"
      ]
     },
     "execution_count": 18,
     "metadata": {},
     "output_type": "execute_result"
    },
    {
     "data": {
      "image/png": "[encoded data removed]",
      "text/plain": [
       "<Figure size 640x480 with 1 Axes>"
      ]
     },
     "metadata": {},
     "output_type": "display_data"
    }
   ],
   "source": [
    "coef_metrics.max_mcc.plot.hist()"
   ]
  },
  {
   "cell_type": "code",
   "execution_count": 19,
   "id": "bc527830-5c12-43a2-915d-df71c77ebecb",
   "metadata": {
    "tags": []
   },
   "outputs": [
    {
     "data": {
      "text/plain": [
       "<Axes: ylabel='Frequency'>"
      ]
     },
     "execution_count": 19,
     "metadata": {},
     "output_type": "execute_result"
    },
    {
     "data": {
      "image/png": "[encoded data removed]",
      "text/plain": [
       "<Figure size 640x480 with 1 Axes>"
      ]
     },
     "metadata": {},
     "output_type": "display_data"
    }
   ],
   "source": [
    "coef_metrics.max_f1.plot.hist()"
   ]
  },
  {
   "cell_type": "code",
   "execution_count": 20,
   "id": "212f657c-793b-4734-807f-4eb5c0995274",
   "metadata": {
    "tags": []
   },
   "outputs": [
    {
     "data": {
      "text/plain": [
       "<Axes: ylabel='Frequency'>"
      ]
     },
     "execution_count": 20,
     "metadata": {},
     "output_type": "execute_result"
    },
    {
     "data": {
      "image/png": "[encoded data removed]",
      "text/plain": [
       "<Figure size 640x480 with 1 Axes>"
      ]
     },
     "metadata": {},
     "output_type": "display_data"
    }
   ],
   "source": [
    "coef_metrics.max_roc_auc.plot.hist()"
   ]
  },
  {
   "cell_type": "code",
   "execution_count": 21,
   "id": "afe42d7f-68ac-496c-aea0-76b0c0207150",
   "metadata": {
    "tags": []
   },
   "outputs": [
    {
     "data": {
      "text/html": [
       "<div>\n",
       "<style scoped>\n",
       "    .dataframe tbody tr th:only-of-type {\n",
       "        vertical-align: middle;\n",
       "    }\n",
       "\n",
       "    .dataframe tbody tr th {\n",
       "        vertical-align: top;\n",
       "    }\n",
       "\n",
       "    .dataframe thead th {\n",
       "        text-align: right;\n",
       "    }\n",
       "</style>\n",
       "<table border=\"1\" class=\"dataframe\">\n",
       "  <thead>\n",
       "    <tr style=\"text-align: right;\">\n",
       "      <th></th>\n",
       "      <th>feature_1</th>\n",
       "      <th>feature_2</th>\n",
       "      <th>wa_roc_auc</th>\n",
       "      <th>wa_f1</th>\n",
       "      <th>wa_mcc</th>\n",
       "      <th>max_roc_auc</th>\n",
       "      <th>max_f1</th>\n",
       "      <th>max_mcc</th>\n",
       "    </tr>\n",
       "  </thead>\n",
       "  <tbody>\n",
       "    <tr>\n",
       "      <th>9</th>\n",
       "      <td>fixed_acidity</td>\n",
       "      <td>alcohol</td>\n",
       "      <td>0.608929</td>\n",
       "      <td>0.451125</td>\n",
       "      <td>0.151535</td>\n",
       "      <td>0.702160</td>\n",
       "      <td>0.552730</td>\n",
       "      <td>0.269262</td>\n",
       "    </tr>\n",
       "    <tr>\n",
       "      <th>18</th>\n",
       "      <td>volatile_acidity</td>\n",
       "      <td>alcohol</td>\n",
       "      <td>0.620955</td>\n",
       "      <td>0.458127</td>\n",
       "      <td>0.186513</td>\n",
       "      <td>0.663914</td>\n",
       "      <td>0.537088</td>\n",
       "      <td>0.261701</td>\n",
       "    </tr>\n",
       "    <tr>\n",
       "      <th>37</th>\n",
       "      <td>chlorides</td>\n",
       "      <td>pH</td>\n",
       "      <td>0.592352</td>\n",
       "      <td>0.465163</td>\n",
       "      <td>0.146626</td>\n",
       "      <td>0.653554</td>\n",
       "      <td>0.546553</td>\n",
       "      <td>0.242468</td>\n",
       "    </tr>\n",
       "    <tr>\n",
       "      <th>39</th>\n",
       "      <td>chlorides</td>\n",
       "      <td>alcohol</td>\n",
       "      <td>0.614555</td>\n",
       "      <td>0.480406</td>\n",
       "      <td>0.165913</td>\n",
       "      <td>0.695091</td>\n",
       "      <td>0.553021</td>\n",
       "      <td>0.268872</td>\n",
       "    </tr>\n",
       "    <tr>\n",
       "      <th>47</th>\n",
       "      <td>total_sulfur_dioxide</td>\n",
       "      <td>sulphates</td>\n",
       "      <td>0.548935</td>\n",
       "      <td>0.221183</td>\n",
       "      <td>0.070108</td>\n",
       "      <td>0.626535</td>\n",
       "      <td>0.490377</td>\n",
       "      <td>0.279045</td>\n",
       "    </tr>\n",
       "    <tr>\n",
       "      <th>51</th>\n",
       "      <td>density</td>\n",
       "      <td>alcohol</td>\n",
       "      <td>0.657766</td>\n",
       "      <td>0.522521</td>\n",
       "      <td>0.228238</td>\n",
       "      <td>0.784051</td>\n",
       "      <td>0.592716</td>\n",
       "      <td>0.350853</td>\n",
       "    </tr>\n",
       "    <tr>\n",
       "      <th>53</th>\n",
       "      <td>pH</td>\n",
       "      <td>alcohol</td>\n",
       "      <td>0.634600</td>\n",
       "      <td>0.487941</td>\n",
       "      <td>0.192149</td>\n",
       "      <td>0.756482</td>\n",
       "      <td>0.585797</td>\n",
       "      <td>0.329144</td>\n",
       "    </tr>\n",
       "  </tbody>\n",
       "</table>\n",
       "</div>"
      ],
      "text/plain": [
       "               feature_1  feature_2  wa_roc_auc     wa_f1    wa_mcc  \\\n",
       "9          fixed_acidity    alcohol    0.608929  0.451125  0.151535   \n",
       "18      volatile_acidity    alcohol    0.620955  0.458127  0.186513   \n",
       "37             chlorides         pH    0.592352  0.465163  0.146626   \n",
       "39             chlorides    alcohol    0.614555  0.480406  0.165913   \n",
       "47  total_sulfur_dioxide  sulphates    0.548935  0.221183  0.070108   \n",
       "51               density    alcohol    0.657766  0.522521  0.228238   \n",
       "53                    pH    alcohol    0.634600  0.487941  0.192149   \n",
       "\n",
       "    max_roc_auc    max_f1   max_mcc  \n",
       "9      0.702160  0.552730  0.269262  \n",
       "18     0.663914  0.537088  0.261701  \n",
       "37     0.653554  0.546553  0.242468  \n",
       "39     0.695091  0.553021  0.268872  \n",
       "47     0.626535  0.490377  0.279045  \n",
       "51     0.784051  0.592716  0.350853  \n",
       "53     0.756482  0.585797  0.329144  "
      ]
     },
     "execution_count": 21,
     "metadata": {},
     "output_type": "execute_result"
    }
   ],
   "source": [
    "coef_metrics.query(\"max_mcc>=0.24\")"
   ]
  },
  {
   "cell_type": "code",
   "execution_count": 22,
   "id": "a9d27754-f765-4e1b-9182-71c8b44662eb",
   "metadata": {
    "tags": []
   },
   "outputs": [
    {
     "data": {
      "text/html": [
       "<div>\n",
       "<style scoped>\n",
       "    .dataframe tbody tr th:only-of-type {\n",
       "        vertical-align: middle;\n",
       "    }\n",
       "\n",
       "    .dataframe tbody tr th {\n",
       "        vertical-align: top;\n",
       "    }\n",
       "\n",
       "    .dataframe thead th {\n",
       "        text-align: right;\n",
       "    }\n",
       "</style>\n",
       "<table border=\"1\" class=\"dataframe\">\n",
       "  <thead>\n",
       "    <tr style=\"text-align: right;\">\n",
       "      <th></th>\n",
       "      <th>feature_1</th>\n",
       "      <th>feature_2</th>\n",
       "      <th>wa_roc_auc</th>\n",
       "      <th>wa_f1</th>\n",
       "      <th>wa_mcc</th>\n",
       "      <th>max_roc_auc</th>\n",
       "      <th>max_f1</th>\n",
       "      <th>max_mcc</th>\n",
       "    </tr>\n",
       "  </thead>\n",
       "  <tbody>\n",
       "    <tr>\n",
       "      <th>27</th>\n",
       "      <td>residual_sugar</td>\n",
       "      <td>chlorides</td>\n",
       "      <td>0.523248</td>\n",
       "      <td>0.417315</td>\n",
       "      <td>0.039291</td>\n",
       "      <td>0.578016</td>\n",
       "      <td>0.602687</td>\n",
       "      <td>0.109945</td>\n",
       "    </tr>\n",
       "    <tr>\n",
       "      <th>30</th>\n",
       "      <td>residual_sugar</td>\n",
       "      <td>density</td>\n",
       "      <td>0.524400</td>\n",
       "      <td>0.423374</td>\n",
       "      <td>0.047089</td>\n",
       "      <td>0.575580</td>\n",
       "      <td>0.607991</td>\n",
       "      <td>0.113175</td>\n",
       "    </tr>\n",
       "    <tr>\n",
       "      <th>32</th>\n",
       "      <td>residual_sugar</td>\n",
       "      <td>sulphates</td>\n",
       "      <td>0.523467</td>\n",
       "      <td>0.452025</td>\n",
       "      <td>0.036754</td>\n",
       "      <td>0.597852</td>\n",
       "      <td>0.608744</td>\n",
       "      <td>0.117633</td>\n",
       "    </tr>\n",
       "    <tr>\n",
       "      <th>45</th>\n",
       "      <td>total_sulfur_dioxide</td>\n",
       "      <td>density</td>\n",
       "      <td>0.552407</td>\n",
       "      <td>0.467963</td>\n",
       "      <td>0.063683</td>\n",
       "      <td>0.637334</td>\n",
       "      <td>0.604766</td>\n",
       "      <td>0.113322</td>\n",
       "    </tr>\n",
       "    <tr>\n",
       "      <th>52</th>\n",
       "      <td>pH</td>\n",
       "      <td>sulphates</td>\n",
       "      <td>0.532826</td>\n",
       "      <td>0.463646</td>\n",
       "      <td>0.053063</td>\n",
       "      <td>0.575402</td>\n",
       "      <td>0.607284</td>\n",
       "      <td>0.111820</td>\n",
       "    </tr>\n",
       "  </tbody>\n",
       "</table>\n",
       "</div>"
      ],
      "text/plain": [
       "               feature_1  feature_2  wa_roc_auc     wa_f1    wa_mcc  \\\n",
       "27        residual_sugar  chlorides    0.523248  0.417315  0.039291   \n",
       "30        residual_sugar    density    0.524400  0.423374  0.047089   \n",
       "32        residual_sugar  sulphates    0.523467  0.452025  0.036754   \n",
       "45  total_sulfur_dioxide    density    0.552407  0.467963  0.063683   \n",
       "52                    pH  sulphates    0.532826  0.463646  0.053063   \n",
       "\n",
       "    max_roc_auc    max_f1   max_mcc  \n",
       "27     0.578016  0.602687  0.109945  \n",
       "30     0.575580  0.607991  0.113175  \n",
       "32     0.597852  0.608744  0.117633  \n",
       "45     0.637334  0.604766  0.113322  \n",
       "52     0.575402  0.607284  0.111820  "
      ]
     },
     "execution_count": 22,
     "metadata": {},
     "output_type": "execute_result"
    }
   ],
   "source": [
    "coef_metrics.query(\"max_f1>=0.6\")"
   ]
  },
  {
   "cell_type": "code",
   "execution_count": 23,
   "id": "5f27d78f-e0b3-4508-836a-a65046e19348",
   "metadata": {
    "tags": []
   },
   "outputs": [
    {
     "data": {
      "text/html": [
       "<div>\n",
       "<style scoped>\n",
       "    .dataframe tbody tr th:only-of-type {\n",
       "        vertical-align: middle;\n",
       "    }\n",
       "\n",
       "    .dataframe tbody tr th {\n",
       "        vertical-align: top;\n",
       "    }\n",
       "\n",
       "    .dataframe thead th {\n",
       "        text-align: right;\n",
       "    }\n",
       "</style>\n",
       "<table border=\"1\" class=\"dataframe\">\n",
       "  <thead>\n",
       "    <tr style=\"text-align: right;\">\n",
       "      <th></th>\n",
       "      <th>feature_1</th>\n",
       "      <th>feature_2</th>\n",
       "      <th>wa_roc_auc</th>\n",
       "      <th>wa_f1</th>\n",
       "      <th>wa_mcc</th>\n",
       "      <th>max_roc_auc</th>\n",
       "      <th>max_f1</th>\n",
       "      <th>max_mcc</th>\n",
       "    </tr>\n",
       "  </thead>\n",
       "  <tbody>\n",
       "    <tr>\n",
       "      <th>4</th>\n",
       "      <td>fixed_acidity</td>\n",
       "      <td>free_sulfur_dioxide</td>\n",
       "      <td>0.547906</td>\n",
       "      <td>0.457795</td>\n",
       "      <td>0.080761</td>\n",
       "      <td>0.700217</td>\n",
       "      <td>0.581227</td>\n",
       "      <td>0.144461</td>\n",
       "    </tr>\n",
       "    <tr>\n",
       "      <th>9</th>\n",
       "      <td>fixed_acidity</td>\n",
       "      <td>alcohol</td>\n",
       "      <td>0.608929</td>\n",
       "      <td>0.451125</td>\n",
       "      <td>0.151535</td>\n",
       "      <td>0.702160</td>\n",
       "      <td>0.552730</td>\n",
       "      <td>0.269262</td>\n",
       "    </tr>\n",
       "    <tr>\n",
       "      <th>13</th>\n",
       "      <td>volatile_acidity</td>\n",
       "      <td>free_sulfur_dioxide</td>\n",
       "      <td>0.550050</td>\n",
       "      <td>0.428839</td>\n",
       "      <td>0.086269</td>\n",
       "      <td>0.704060</td>\n",
       "      <td>0.568627</td>\n",
       "      <td>0.167801</td>\n",
       "    </tr>\n",
       "    <tr>\n",
       "      <th>51</th>\n",
       "      <td>density</td>\n",
       "      <td>alcohol</td>\n",
       "      <td>0.657766</td>\n",
       "      <td>0.522521</td>\n",
       "      <td>0.228238</td>\n",
       "      <td>0.784051</td>\n",
       "      <td>0.592716</td>\n",
       "      <td>0.350853</td>\n",
       "    </tr>\n",
       "    <tr>\n",
       "      <th>53</th>\n",
       "      <td>pH</td>\n",
       "      <td>alcohol</td>\n",
       "      <td>0.634600</td>\n",
       "      <td>0.487941</td>\n",
       "      <td>0.192149</td>\n",
       "      <td>0.756482</td>\n",
       "      <td>0.585797</td>\n",
       "      <td>0.329144</td>\n",
       "    </tr>\n",
       "  </tbody>\n",
       "</table>\n",
       "</div>"
      ],
      "text/plain": [
       "           feature_1            feature_2  wa_roc_auc     wa_f1    wa_mcc  \\\n",
       "4      fixed_acidity  free_sulfur_dioxide    0.547906  0.457795  0.080761   \n",
       "9      fixed_acidity              alcohol    0.608929  0.451125  0.151535   \n",
       "13  volatile_acidity  free_sulfur_dioxide    0.550050  0.428839  0.086269   \n",
       "51           density              alcohol    0.657766  0.522521  0.228238   \n",
       "53                pH              alcohol    0.634600  0.487941  0.192149   \n",
       "\n",
       "    max_roc_auc    max_f1   max_mcc  \n",
       "4      0.700217  0.581227  0.144461  \n",
       "9      0.702160  0.552730  0.269262  \n",
       "13     0.704060  0.568627  0.167801  \n",
       "51     0.784051  0.592716  0.350853  \n",
       "53     0.756482  0.585797  0.329144  "
      ]
     },
     "execution_count": 23,
     "metadata": {},
     "output_type": "execute_result"
    }
   ],
   "source": [
    "coef_metrics.query(\"max_roc_auc>=0.7\")"
   ]
  },
  {
   "cell_type": "markdown",
   "id": "6811c795-6833-4269-bc3c-5ff5061b3096",
   "metadata": {},
   "source": [
    "Сохраним данные о метриках в отдельный файл, которым можно делиться, в data/clean"
   ]
  },
  {
   "cell_type": "code",
   "execution_count": 24,
   "id": "6ebc22b4-7914-49ce-94b3-b4d8667b5a13",
   "metadata": {
    "tags": []
   },
   "outputs": [
    {
     "name": "stderr",
     "output_type": "stream",
     "text": [
      "2024-12-01 17:13:20 INFO coefficients_mentrcs_2024-12-01-17-13-20.xlsx saved to data/clean\n"
     ]
    }
   ],
   "source": [
    "fname = get_filename('coefficients_mentrcs', extension='xlsx')\n",
    "\n",
    "coef_metrics.to_excel(DATA_CLEAN / fname)\n",
    "logger.info(\"%s saved to data/clean\", fname)"
   ]
  },
  {
   "cell_type": "markdown",
   "id": "543a59c6-9a7a-484d-8135-a4d1d9900c00",
   "metadata": {},
   "source": [
    "Выберем наиболее подходящие фичи."
   ]
  },
  {
   "cell_type": "code",
   "execution_count": 33,
   "id": "e08c8e25-277e-4906-9b3d-0cf9a8c47772",
   "metadata": {
    "tags": []
   },
   "outputs": [
    {
     "data": {
      "text/plain": [
       "[('fixed_acidity', 'free_sulfur_dioxide'),\n",
       " ('fixed_acidity', 'alcohol'),\n",
       " ('volatile_acidity', 'free_sulfur_dioxide'),\n",
       " ('density', 'alcohol'),\n",
       " ('pH', 'alcohol')]"
      ]
     },
     "execution_count": 33,
     "metadata": {},
     "output_type": "execute_result"
    }
   ],
   "source": [
    "coef_metrics.query(\"max_roc_auc>=0.7\")[['feature_1','feature_2']].apply(tuple, axis=1).tolist()"
   ]
  },
  {
   "cell_type": "markdown",
   "id": "8bfd9609-2d4c-473b-8ede-e693a56abb9e",
   "metadata": {},
   "source": [
    "Добавим их к датасету и сохраним его."
   ]
  },
  {
   "cell_type": "code",
   "execution_count": 34,
   "id": "0451d37b-ce13-4479-877c-ef9ba5170469",
   "metadata": {
    "tags": []
   },
   "outputs": [],
   "source": [
    "df_to_save = pd.concat(\n",
    "    [\n",
    "        add_coefficients(train.assign(is_train=1)),\n",
    "        add_coefficients(test.assign(is_train=0)),\n",
    "    ]\n",
    ")"
   ]
  },
  {
   "cell_type": "code",
   "execution_count": 35,
   "id": "3f66e2cc-88f3-4aab-8911-c95fa0c1ed6f",
   "metadata": {
    "tags": []
   },
   "outputs": [
    {
     "name": "stderr",
     "output_type": "stream",
     "text": [
      "2024-12-01 17:13:30 INFO enrich_features_2024-12-01-17-13-30.parquet saved to data/processed\n"
     ]
    }
   ],
   "source": [
    "fname = get_filename()\n",
    "\n",
    "df_to_save.to_parquet(DATA_PROCESSED / fname)\n",
    "logger.info(\"%s saved to data/processed\", fname)"
   ]
  },
  {
   "cell_type": "code",
   "execution_count": null,
   "id": "f83888ae-8a6d-4dd6-93b8-d0ee9ef4a090",
   "metadata": {},
   "outputs": [],
   "source": []
  }
 ],
 "metadata": {
  "kernelspec": {
   "display_name": "Python 3 (ipykernel)",
   "language": "python",
   "name": "python3"
  },
  "language_info": {
   "codemirror_mode": {
    "name": "ipython",
    "version": 3
   },
   "file_extension": ".py",
   "mimetype": "text/x-python",
   "name": "python",
   "nbconvert_exporter": "python",
   "pygments_lexer": "ipython3",
   "version": "3.10.12"
  }
 },
 "nbformat": 4,
 "nbformat_minor": 5
}
