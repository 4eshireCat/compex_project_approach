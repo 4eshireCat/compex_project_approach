{
 "cells": [
  {
   "cell_type": "code",
   "execution_count": 10,
   "id": "4aa92f0e-916b-4102-91ab-7a7358c559a6",
   "metadata": {
    "tags": []
   },
   "outputs": [],
   "source": [
    "# работа с данными\n",
    "import pandas as pd\n",
    "import numpy as np\n",
    "\n",
    "# статистика\n",
    "from scipy import stats\n",
    "\n",
    "# визуализации\n",
    "from matplotlib import pyplot as plt\n",
    "import seaborn as sns\n",
    "from seaborn import objects as so\n",
    "from plotly import express as pe\n",
    "import ipywidgets as ipw\n",
    "import aquarel as aq\n",
    "\n",
    "# системные библиотеки\n",
    "from pathlib import Path\n",
    "import logging\n",
    "\n",
    "from datetime import datetime\n",
    "import ipynbname"
   ]
  },
  {
   "cell_type": "code",
   "execution_count": 37,
   "id": "04e17dc9-a9ed-410a-82c6-308144604031",
   "metadata": {
    "tags": []
   },
   "outputs": [
    {
     "name": "stderr",
     "output_type": "stream",
     "text": [
      "2024-11-06 11:02:40 INFO Logger has been configured successfully.\n"
     ]
    }
   ],
   "source": [
    "# Configure the logging settings\n",
    "logging.basicConfig(\n",
    "    format='%(asctime)s %(levelname)s %(message)s',  # Set the log message format\n",
    "    datefmt='%Y-%m-%d %H:%M:%S',  # Set the date format\n",
    "    level=logging.INFO  # Set the logging level to INFO\n",
    ")\n",
    "\n",
    "# Create a logger object\n",
    "logger = logging.getLogger(__name__)\n",
    "\n",
    "logger.info(\"Logger has been configured successfully.\")"
   ]
  },
  {
   "cell_type": "code",
   "execution_count": 18,
   "id": "fdf8d988-ea57-47be-b11b-c6c0325a0dbc",
   "metadata": {
    "tags": []
   },
   "outputs": [
    {
     "name": "stdout",
     "output_type": "stream",
     "text": [
      "['arctic_dark', 'arctic_light', 'boxy_dark', 'boxy_light', 'gruvbox_dark', 'gruvbox_light', 'minimal_dark', 'minimal_light', 'scientific', 'umbra_dark', 'umbra_light']\n"
     ]
    },
    {
     "data": {
      "text/plain": [
       "<aquarel.theme.Theme at 0x17d1a19dd90>"
      ]
     },
     "execution_count": 18,
     "metadata": {},
     "output_type": "execute_result"
    }
   ],
   "source": [
    "# Загружаем тему, чтобы диаграммы были красивее\n",
    "\n",
    "print(aq.list_themes())\n",
    "\n",
    "aq.load_theme('arctic_light')"
   ]
  },
  {
   "cell_type": "markdown",
   "id": "bbf6c55f-106a-4ffa-9870-df4e064c63b6",
   "metadata": {},
   "source": [
    "# Константы"
   ]
  },
  {
   "cell_type": "code",
   "execution_count": 22,
   "id": "a039517e-58aa-42f8-8b62-6a2765b3b16e",
   "metadata": {
    "tags": []
   },
   "outputs": [],
   "source": [
    "ROOT = Path(\".\").absolute().parent.parent\n",
    "\n",
    "DATA = ROOT / \"data\"\n",
    "DATA_RAW = DATA / \"raw\"\n",
    "DATA_PROCESSED = DATA / \"processed\"\n"
   ]
  },
  {
   "cell_type": "markdown",
   "id": "9d71f217-78d8-49a8-9157-b57a6c6ffd01",
   "metadata": {
    "tags": []
   },
   "source": [
    "# Вспомогательный код"
   ]
  },
  {
   "cell_type": "code",
   "execution_count": null,
   "id": "5cfe8c03-a5eb-4ab1-817f-254fcac3c2a7",
   "metadata": {},
   "outputs": [],
   "source": [
    "def get_timestamp() -> str:\n",
    "    \"\"\"\n",
    "    Generates a timestamp string in the format YYYY-MM-DD-HH-MM-SS.\n",
    "    \n",
    "    Returns:\n",
    "        str: The formatted timestamp.\n",
    "    \"\"\"\n",
    "    dt = datetime.now()\n",
    "    return dt.strftime(\"%Y-%m-%d-%H-%M-%S\")\n",
    "\n",
    "def get_filename(\n",
    "        fname: Optional[str] = None,\n",
    "        extension: str = 'parquet',\n",
    "    ) -> str:\n",
    "    \"\"\"\n",
    "    Generates a filename based on the provided name and current timestamp.\n",
    "    \n",
    "    Args:\n",
    "        fname (Optional[str]): The base filename. If None, the current notebook name is used.\n",
    "        extension (str): The file extension to use. Default is 'parquet'.\n",
    "    \n",
    "    Returns:\n",
    "        str: The generated filename with timestamp and extension.\n",
    "    \"\"\"\n",
    "    base_filename: str = fname if fname else ipynbname.name()\n",
    "    return f\"{base_filename}_{get_timestamp()}.{extension}\""
   ]
  },
  {
   "cell_type": "markdown",
   "id": "663a04b9-8ce6-424e-a7dd-6c87f030a3e2",
   "metadata": {},
   "source": [
    "# Гипотеза\n",
    "\n",
    "На какие вопросы хотим ответить? Какие цели перед собой ставим?"
   ]
  },
  {
   "cell_type": "markdown",
   "id": "54c0e478-efe4-4fd0-b4cf-38302404dd0e",
   "metadata": {},
   "source": [
    "# Результаты"
   ]
  },
  {
   "cell_type": "code",
   "execution_count": null,
   "id": "2d9b1828-1688-423b-b13b-66a0a9a009a6",
   "metadata": {},
   "outputs": [],
   "source": []
  },
  {
   "cell_type": "markdown",
   "id": "7f2244b9-e8a6-41d8-b6fb-7149d6dc1b88",
   "metadata": {},
   "source": [
    "# Анализ"
   ]
  },
  {
   "cell_type": "code",
   "execution_count": null,
   "id": "7e35d393-59b7-47ed-a82d-5ddc458c7e4a",
   "metadata": {},
   "outputs": [],
   "source": []
  }
 ],
 "metadata": {
  "kernelspec": {
   "display_name": "Python 3 (ipykernel)",
   "language": "python",
   "name": "python3"
  },
  "language_info": {
   "codemirror_mode": {
    "name": "ipython",
    "version": 3
   },
   "file_extension": ".py",
   "mimetype": "text/x-python",
   "name": "python",
   "nbconvert_exporter": "python",
   "pygments_lexer": "ipython3",
   "version": "3.10.12"
  }
 },
 "nbformat": 4,
 "nbformat_minor": 5
}
