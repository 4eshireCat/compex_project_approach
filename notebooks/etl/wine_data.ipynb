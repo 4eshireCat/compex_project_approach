{
 "cells": [
  {
   "cell_type": "code",
   "execution_count": 1,
   "id": "77da78db-9a02-4bc5-8239-6e45fd0db8d3",
   "metadata": {
    "tags": []
   },
   "outputs": [],
   "source": [
    "from ucimlrepo import fetch_ucirepo\n",
    "import pandas as pd\n",
    "import ipytest\n",
    "from pathlib import Path\n",
    "import logging\n",
    "from datetime import datetime\n",
    "import ipynbname\n",
    "from typing import Optional"
   ]
  },
  {
   "cell_type": "code",
   "execution_count": 2,
   "id": "65980d55-32b2-41bc-9440-76900cb56827",
   "metadata": {
    "tags": []
   },
   "outputs": [
    {
     "name": "stderr",
     "output_type": "stream",
     "text": [
      "2024-11-04 19:36:07 INFO Logger has been configured successfully.\n"
     ]
    }
   ],
   "source": [
    "# Configure the logging settings\n",
    "logging.basicConfig(\n",
    "    format='%(asctime)s %(levelname)s %(message)s',  # Set the log message format\n",
    "    datefmt='%Y-%m-%d %H:%M:%S',  # Set the date format\n",
    "    level=logging.INFO  # Set the logging level to INFO\n",
    ")\n",
    "\n",
    "# Create a logger object\n",
    "logger = logging.getLogger(__name__)\n",
    "\n",
    "logger.info(\"Logger has been configured successfully.\")"
   ]
  },
  {
   "cell_type": "code",
   "execution_count": 3,
   "id": "e1a3dd4b-89d0-4658-bc1b-62a0c3469be6",
   "metadata": {
    "tags": []
   },
   "outputs": [],
   "source": [
    "ipytest.autoconfig()"
   ]
  },
  {
   "cell_type": "markdown",
   "id": "24f9b54e-dc04-41d5-a2e5-65d6570f4418",
   "metadata": {},
   "source": [
    "# Константы"
   ]
  },
  {
   "cell_type": "code",
   "execution_count": 5,
   "id": "2e75c8aa-a86e-4181-9254-ea5ed7bc12e9",
   "metadata": {
    "tags": []
   },
   "outputs": [],
   "source": [
    "ROOT = Path(\".\").absolute().parent.parent\n",
    "\n",
    "DATA = ROOT / \"data\"\n",
    "DATA_RAW = DATA / \"raw\""
   ]
  },
  {
   "cell_type": "markdown",
   "id": "0473cd5a-0825-46a3-a62d-dc01f48e35ac",
   "metadata": {},
   "source": [
    "# Вспомогательный код"
   ]
  },
  {
   "cell_type": "code",
   "execution_count": 7,
   "id": "5d6128ab-5563-4b1f-ab17-7a234c3bf18c",
   "metadata": {
    "tags": []
   },
   "outputs": [],
   "source": [
    "def get_timestamp() -> str:\n",
    "    \"\"\"\n",
    "    Generates a timestamp string in the format YYYY-MM-DD-HH-MM-SS.\n",
    "    \n",
    "    Returns:\n",
    "        str: The formatted timestamp.\n",
    "    \"\"\"\n",
    "    dt = datetime.now()\n",
    "    return dt.strftime(\"%Y-%m-%d-%H-%M-%S\")\n",
    "\n",
    "def get_filename(\n",
    "        fname: Optional[str] = None,\n",
    "        extension: str = 'parquet',\n",
    "    ) -> str:\n",
    "    \"\"\"\n",
    "    Generates a filename based on the provided name and current timestamp.\n",
    "    \n",
    "    Args:\n",
    "        fname (Optional[str]): The base filename. If None, the current notebook name is used.\n",
    "        extension (str): The file extension to use. Default is 'parquet'.\n",
    "    \n",
    "    Returns:\n",
    "        str: The generated filename with timestamp and extension.\n",
    "    \"\"\"\n",
    "    base_filename: str = fname if fname else ipynbname.name()\n",
    "    return f\"{base_filename}_{get_timestamp()}.{extension}\""
   ]
  },
  {
   "cell_type": "markdown",
   "id": "7ef65064-f2d6-4117-8062-d5fedb9b18d4",
   "metadata": {},
   "source": [
    "# Загрузка данных"
   ]
  },
  {
   "cell_type": "code",
   "execution_count": 9,
   "id": "489dccb4-407a-47e3-bc52-ee3c3f6b05f5",
   "metadata": {
    "tags": []
   },
   "outputs": [],
   "source": [
    "def fetch_wine_quality_data():\n",
    "    \"\"\"\n",
    "    Fetches the wine quality dataset from the UCI Machine Learning Repository\n",
    "    and returns a single DataFrame containing both features and targets.\n",
    "    \"\"\"\n",
    "    # fetch dataset \n",
    "    wine_quality = fetch_ucirepo(id=186)  # Retrieve the wine quality dataset using its unique identifier\n",
    "    \n",
    "    # data (as pandas dataframes) \n",
    "    wine_quality_df = wine_quality.data.features.copy()  # Store the feature data in variable X\n",
    "    targets = wine_quality.data.targets    # Store the target data in variable y\n",
    "    \n",
    "    wine_quality_df['quality'] = targets.values\n",
    "    return wine_quality_df  # Return the combined DataFrame\n",
    "\n"
   ]
  },
  {
   "cell_type": "code",
   "execution_count": 10,
   "id": "6e095034-1711-4d57-8ed5-371634716967",
   "metadata": {
    "tags": []
   },
   "outputs": [
    {
     "name": "stderr",
     "output_type": "stream",
     "text": [
      "2024-11-04 19:36:13 INFO Data loaded. 6497  rows, 12 columns\n"
     ]
    }
   ],
   "source": [
    "df = fetch_wine_quality_data()\n",
    "logging.info(\"Data loaded. %s  rows, %s columns\", df.shape[0], df.shape[1])"
   ]
  },
  {
   "cell_type": "code",
   "execution_count": 11,
   "id": "adeaa144-a219-4cb2-b0bb-824d82189b1f",
   "metadata": {
    "tags": []
   },
   "outputs": [
    {
     "name": "stderr",
     "output_type": "stream",
     "text": [
      "2024-11-04 19:36:13 INFO Duplicates removed. 5318  rows, 13 columns\n"
     ]
    }
   ],
   "source": [
    "# Данные содержат дубликаты: избавимся от них\n",
    "df = df.assign(rc=1).groupby(df.columns.tolist(), as_index=False).rc.sum()\n",
    "\n",
    "logging.info(\"Duplicates removed. %s  rows, %s columns\", df.shape[0], df.shape[1])"
   ]
  },
  {
   "cell_type": "markdown",
   "id": "b473498d-ee39-4445-9052-36f4dae47c66",
   "metadata": {
    "tags": []
   },
   "source": [
    "# Проверки"
   ]
  },
  {
   "cell_type": "code",
   "execution_count": 13,
   "id": "50d092b9-30af-45e8-b98b-9ce27acd2c29",
   "metadata": {
    "tags": []
   },
   "outputs": [
    {
     "data": {
      "text/html": [
       "<div>\n",
       "<style scoped>\n",
       "    .dataframe tbody tr th:only-of-type {\n",
       "        vertical-align: middle;\n",
       "    }\n",
       "\n",
       "    .dataframe tbody tr th {\n",
       "        vertical-align: top;\n",
       "    }\n",
       "\n",
       "    .dataframe thead th {\n",
       "        text-align: right;\n",
       "    }\n",
       "</style>\n",
       "<table border=\"1\" class=\"dataframe\">\n",
       "  <thead>\n",
       "    <tr style=\"text-align: right;\">\n",
       "      <th></th>\n",
       "      <th>fixed_acidity</th>\n",
       "      <th>volatile_acidity</th>\n",
       "      <th>citric_acid</th>\n",
       "      <th>residual_sugar</th>\n",
       "      <th>chlorides</th>\n",
       "      <th>free_sulfur_dioxide</th>\n",
       "      <th>total_sulfur_dioxide</th>\n",
       "      <th>density</th>\n",
       "      <th>pH</th>\n",
       "      <th>sulphates</th>\n",
       "      <th>alcohol</th>\n",
       "      <th>quality</th>\n",
       "      <th>rc</th>\n",
       "    </tr>\n",
       "  </thead>\n",
       "  <tbody>\n",
       "    <tr>\n",
       "      <th>0</th>\n",
       "      <td>3.8</td>\n",
       "      <td>0.310</td>\n",
       "      <td>0.02</td>\n",
       "      <td>11.1</td>\n",
       "      <td>0.036</td>\n",
       "      <td>20.0</td>\n",
       "      <td>114.0</td>\n",
       "      <td>0.99248</td>\n",
       "      <td>3.75</td>\n",
       "      <td>0.44</td>\n",
       "      <td>12.4</td>\n",
       "      <td>6</td>\n",
       "      <td>1</td>\n",
       "    </tr>\n",
       "    <tr>\n",
       "      <th>1</th>\n",
       "      <td>3.9</td>\n",
       "      <td>0.225</td>\n",
       "      <td>0.40</td>\n",
       "      <td>4.2</td>\n",
       "      <td>0.030</td>\n",
       "      <td>29.0</td>\n",
       "      <td>118.0</td>\n",
       "      <td>0.98900</td>\n",
       "      <td>3.57</td>\n",
       "      <td>0.36</td>\n",
       "      <td>12.8</td>\n",
       "      <td>8</td>\n",
       "      <td>1</td>\n",
       "    </tr>\n",
       "    <tr>\n",
       "      <th>2</th>\n",
       "      <td>4.2</td>\n",
       "      <td>0.170</td>\n",
       "      <td>0.36</td>\n",
       "      <td>1.8</td>\n",
       "      <td>0.029</td>\n",
       "      <td>93.0</td>\n",
       "      <td>161.0</td>\n",
       "      <td>0.98999</td>\n",
       "      <td>3.65</td>\n",
       "      <td>0.89</td>\n",
       "      <td>12.0</td>\n",
       "      <td>7</td>\n",
       "      <td>1</td>\n",
       "    </tr>\n",
       "    <tr>\n",
       "      <th>3</th>\n",
       "      <td>4.2</td>\n",
       "      <td>0.215</td>\n",
       "      <td>0.23</td>\n",
       "      <td>5.1</td>\n",
       "      <td>0.041</td>\n",
       "      <td>64.0</td>\n",
       "      <td>157.0</td>\n",
       "      <td>0.99688</td>\n",
       "      <td>3.42</td>\n",
       "      <td>0.44</td>\n",
       "      <td>8.0</td>\n",
       "      <td>3</td>\n",
       "      <td>1</td>\n",
       "    </tr>\n",
       "    <tr>\n",
       "      <th>4</th>\n",
       "      <td>4.4</td>\n",
       "      <td>0.320</td>\n",
       "      <td>0.39</td>\n",
       "      <td>4.3</td>\n",
       "      <td>0.030</td>\n",
       "      <td>31.0</td>\n",
       "      <td>127.0</td>\n",
       "      <td>0.98904</td>\n",
       "      <td>3.46</td>\n",
       "      <td>0.36</td>\n",
       "      <td>12.8</td>\n",
       "      <td>8</td>\n",
       "      <td>1</td>\n",
       "    </tr>\n",
       "  </tbody>\n",
       "</table>\n",
       "</div>"
      ],
      "text/plain": [
       "   fixed_acidity  volatile_acidity  citric_acid  residual_sugar  chlorides  \\\n",
       "0            3.8             0.310         0.02            11.1      0.036   \n",
       "1            3.9             0.225         0.40             4.2      0.030   \n",
       "2            4.2             0.170         0.36             1.8      0.029   \n",
       "3            4.2             0.215         0.23             5.1      0.041   \n",
       "4            4.4             0.320         0.39             4.3      0.030   \n",
       "\n",
       "   free_sulfur_dioxide  total_sulfur_dioxide  density    pH  sulphates  \\\n",
       "0                 20.0                 114.0  0.99248  3.75       0.44   \n",
       "1                 29.0                 118.0  0.98900  3.57       0.36   \n",
       "2                 93.0                 161.0  0.98999  3.65       0.89   \n",
       "3                 64.0                 157.0  0.99688  3.42       0.44   \n",
       "4                 31.0                 127.0  0.98904  3.46       0.36   \n",
       "\n",
       "   alcohol  quality  rc  \n",
       "0     12.4        6   1  \n",
       "1     12.8        8   1  \n",
       "2     12.0        7   1  \n",
       "3      8.0        3   1  \n",
       "4     12.8        8   1  "
      ]
     },
     "execution_count": 13,
     "metadata": {},
     "output_type": "execute_result"
    }
   ],
   "source": [
    "df.head()"
   ]
  },
  {
   "cell_type": "code",
   "execution_count": 14,
   "id": "a8d6d304-0b77-4f01-aa0b-bbd02227ba68",
   "metadata": {
    "tags": []
   },
   "outputs": [
    {
     "name": "stdout",
     "output_type": "stream",
     "text": [
      "\u001b[32m.\u001b[0m\u001b[32m                                                                                            [100%]\u001b[0m\n",
      "\u001b[32m\u001b[32m\u001b[1m1 passed\u001b[0m\u001b[32m in 0.01s\u001b[0m\u001b[0m\n"
     ]
    }
   ],
   "source": [
    "%%ipytest\n",
    "\n",
    "def test_no_duplicates():\n",
    "    assert df.duplicated().sum() == 0"
   ]
  },
  {
   "cell_type": "markdown",
   "id": "c1cdc4cd-e8b8-468c-8ba6-19eafedd700d",
   "metadata": {},
   "source": [
    "# Сохранение"
   ]
  },
  {
   "cell_type": "code",
   "execution_count": 16,
   "id": "e9bee353-b792-497c-8f99-1c5495e6b29e",
   "metadata": {
    "tags": []
   },
   "outputs": [
    {
     "name": "stderr",
     "output_type": "stream",
     "text": [
      "2024-11-04 19:36:13 INFO Saving data to a file: wine_data_2024-11-04-19-36-13.parquet\n",
      "2024-11-04 19:36:14 INFO Data saved to E:\\edu\\wine_project\\data\\raw\n"
     ]
    }
   ],
   "source": [
    "fname = get_filename()\n",
    "\n",
    "logger.info(\"Saving data to a file: %s\", fname)\n",
    "try:\n",
    "    df.to_parquet(DATA_RAW / fname)\n",
    "    logger.info(\"Data saved to %s\", DATA_RAW)\n",
    "except:\n",
    "    logger.error(\"Error. Data was not saved.\")"
   ]
  },
  {
   "cell_type": "code",
   "execution_count": null,
   "id": "c8ee65ec-c674-4e07-9bbe-6431c8ce1f4b",
   "metadata": {},
   "outputs": [],
   "source": []
  }
 ],
 "metadata": {
  "kernelspec": {
   "display_name": "Python 3 (ipykernel)",
   "language": "python",
   "name": "python3"
  },
  "language_info": {
   "codemirror_mode": {
    "name": "ipython",
    "version": 3
   },
   "file_extension": ".py",
   "mimetype": "text/x-python",
   "name": "python",
   "nbconvert_exporter": "python",
   "pygments_lexer": "ipython3",
   "version": "3.11.7"
  }
 },
 "nbformat": 4,
 "nbformat_minor": 5
}
